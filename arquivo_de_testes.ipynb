{
 "cells": [
  {
   "cell_type": "code",
   "execution_count": 33,
   "metadata": {},
   "outputs": [],
   "source": [
    "import math\n",
    "u = [2,-3,4]\n",
    "v = [1,-1,2]\n",
    "\n",
    "c = [5 , -4, 5]\n",
    "d = [-1 , 3, 4]\n",
    "\n"
   ]
  },
  {
   "cell_type": "code",
   "execution_count": 4,
   "metadata": {},
   "outputs": [
    {
     "name": "stdout",
     "output_type": "stream",
     "text": [
      "12\n"
     ]
    }
   ],
   "source": [
    "print(eval(\"6+6\"))"
   ]
  },
  {
   "cell_type": "markdown",
   "metadata": {},
   "source": [
    "#### Produto Escalar"
   ]
  },
  {
   "cell_type": "code",
   "execution_count": 34,
   "metadata": {},
   "outputs": [
    {
     "data": {
      "text/plain": [
       "[2, 3, 8]"
      ]
     },
     "execution_count": 34,
     "metadata": {},
     "output_type": "execute_result"
    }
   ],
   "source": [
    "prod_escalar = list(map(lambda x,y: x* y, u, v))\n",
    "prod_escalar"
   ]
  },
  {
   "cell_type": "markdown",
   "metadata": {},
   "source": [
    "#### Modulo"
   ]
  },
  {
   "cell_type": "code",
   "execution_count": 35,
   "metadata": {},
   "outputs": [
    {
     "name": "stdout",
     "output_type": "stream",
     "text": [
      "5.3852\n",
      "2.4495\n"
     ]
    }
   ],
   "source": [
    "\n",
    "\n",
    "modulo_u = list(map(lambda x: (x**2),u ))\n",
    "modulo_u = round(math.sqrt(sum(modulo_u)), 4)\n",
    "\n",
    "modulo_v = list(map(lambda x: (x**2),v ))\n",
    "modulo_v = round(math.sqrt(sum(modulo_v)), 4)\n",
    "\n",
    "\n",
    "print(modulo_u)\n",
    "print(modulo_v)\n"
   ]
  },
  {
   "cell_type": "markdown",
   "metadata": {},
   "source": [
    "#### Modulo U*V"
   ]
  },
  {
   "cell_type": "code",
   "execution_count": 36,
   "metadata": {},
   "outputs": [
    {
     "name": "stdout",
     "output_type": "stream",
     "text": [
      "8.775\n"
     ]
    }
   ],
   "source": [
    "modulo_uXv = list(map(lambda x: (x**2),prod_escalar ))\n",
    "modulo_uXv = round(math.sqrt(sum(modulo_uXv)), 4)\n",
    "print(modulo_uXv)"
   ]
  },
  {
   "cell_type": "markdown",
   "metadata": {},
   "source": [
    "### Theta"
   ]
  },
  {
   "cell_type": "code",
   "execution_count": 37,
   "metadata": {},
   "outputs": [
    {
     "data": {
      "text/plain": [
       "1.2710055824505941"
      ]
     },
     "execution_count": 37,
     "metadata": {},
     "output_type": "execute_result"
    }
   ],
   "source": [
    "O = (1 / (math.cos(modulo_uXv / (modulo_u*modulo_v))))\n",
    "\n",
    "O"
   ]
  },
  {
   "cell_type": "markdown",
   "metadata": {},
   "source": [
    "#### Paralelismo"
   ]
  },
  {
   "cell_type": "code",
   "execution_count": 38,
   "metadata": {},
   "outputs": [
    {
     "data": {
      "text/plain": [
       "[2.0, 3.0, 2.0]"
      ]
     },
     "execution_count": 38,
     "metadata": {},
     "output_type": "execute_result"
    }
   ],
   "source": [
    "paralelismo = list(map(lambda x,y: x / y, u, v))\n",
    "paralelismo"
   ]
  },
  {
   "cell_type": "markdown",
   "metadata": {},
   "source": [
    "#### Equação Vetorial de Reta"
   ]
  },
  {
   "cell_type": "code",
   "execution_count": 42,
   "metadata": {},
   "outputs": [
    {
     "data": {
      "text/plain": [
       "[3.0, 1.0, 0.5]"
      ]
     },
     "execution_count": 42,
     "metadata": {},
     "output_type": "execute_result"
    }
   ],
   "source": [
    "\n",
    "vet_vu = list(map(lambda x,y: y-x, u, v))\n",
    "\n",
    "\n",
    "# ponto = u + (t * vet_vu)\n",
    "\n",
    "\n",
    "# somando C com U\n",
    "soma_c_u = list(map(lambda x,y: x+y, c, u))\n",
    "\n",
    "pontos_compativeis = list(map(lambda x,y: x / y, soma_c_u, v))\n",
    "# PARAMOS AQUI\n",
    "pontos_compativeis\n",
    "\n",
    "\n",
    "\n"
   ]
  }
 ],
 "metadata": {
  "kernelspec": {
   "display_name": "Python 3",
   "language": "python",
   "name": "python3"
  },
  "language_info": {
   "codemirror_mode": {
    "name": "ipython",
    "version": 3
   },
   "file_extension": ".py",
   "mimetype": "text/x-python",
   "name": "python",
   "nbconvert_exporter": "python",
   "pygments_lexer": "ipython3",
   "version": "3.10.6"
  },
  "orig_nbformat": 4
 },
 "nbformat": 4,
 "nbformat_minor": 2
}
